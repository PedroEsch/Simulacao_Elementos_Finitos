{
  "cells": [
    {
      "cell_type": "markdown",
      "metadata": {
        "id": "view-in-github",
        "colab_type": "text"
      },
      "source": [
        "<a href=\"https://colab.research.google.com/github/PedroEsch/Simulacao_Elementos_Finitos/blob/main/Vers%C3%A3o_final_3D_melhorada.ipynb\" target=\"_parent\"><img src=\"https://colab.research.google.com/assets/colab-badge.svg\" alt=\"Open In Colab\"/></a>"
      ]
    },
    {
      "cell_type": "markdown",
      "metadata": {
        "id": "_6vW-jkE6AKd"
      },
      "source": [
        "## Elemento de barra 3d (FEM3D)"
      ]
    },
    {
      "cell_type": "code",
      "execution_count": null,
      "metadata": {
        "id": "mi5PQVUL6Yjk"
      },
      "outputs": [],
      "source": [
        "#@title Bibliotecas e funções { display-mode: \"form\" }\n",
        "\n",
        "import numpy as np\n",
        "import scipy.linalg as la\n",
        "from numpy import pi, cos, sin, sqrt, arctan2\n",
        "np.set_printoptions(precision=2, linewidth=100) #altera forma de array no print\n",
        "\n",
        "# Função para calcular a matriz de rigidez local do elemento 3D:\n",
        "def Klocal (E, R, L, v):\n",
        "\n",
        "  G = E/(2*(1+v))\n",
        "  A = pi*R**2\n",
        "  M = p*A*L\n",
        "  Ix = pi*R**4/2\n",
        "  Iy = (M*R**2)/2\n",
        "  Iz = (M*R**2)/2\n",
        "\n",
        "  k_local = np.array([\n",
        "    #  0        1               2               3         4             5             6        7              8               9         10            11\n",
        "      [E*A/L,   0,              0,              0,        0,            0,            -E*A/L,  0,             0,              0,        0,            0             ], #0\n",
        "      [0,       12*E*Iz/L**3,   0,              0,        0,            6*E*Iz/L**2,  0,       -12*E*Iz/L**3, 0,              0,        0,            6*E*Iz/L**2   ], #1\n",
        "      [0,       0,              12*E*Iy/L**3,   0,        -6*E*Iy/L**2, 0,            0,       0,             -12*E*Iy/L**3,  0,        -6*E*Iy/L**2, 0             ], #2\n",
        "      [0,       0,              0,              G*Ix/L,   0,            0,            0,       0,             0,              -G*Ix/L,  0,            0             ], #3\n",
        "      [0,       0,              -6*E*Iy/L**2,   0,        4*E*Iy/L,     0,            0,       0,             6*E*Iy/L**2,    0,        2*E*Iy/L,     0             ], #4\n",
        "      [0,       6*E*Iz/L**2,    0,              0,        0,            4*E*Iz/L,     0,       -6*E*Iz/L**2,  0,              0,        0,            2*E*Iz/L      ], #5\n",
        "      [-E*A/L,  0,              0,              0,        0,            0,            E*A/L,   0,             0,              0,        0,            0             ], #6\n",
        "      [0,       -12*E*Iz/L**3,  0,              0,        0,            -6*E*Iz/L**2, 0,       12*E*Iz/L**3,  0,              0,        0,            -6*E*Iz/L**2  ], #7\n",
        "      [0,       0,              -12*E*Iy/L**3,  0,        6*E*Iy/L**2,  0,            0,       0,             12*E*Iy/L**3,   0,        6*E*Iy/L**2,  0             ], #8\n",
        "      [0,       0,              0,              -G*Ix/L,  0,            0,            0,       0,             0,              G*Ix/L,   0,            0             ], #9\n",
        "      [0,       0,              -6*E*Iy/L**2,   0,        2*E*Iy/L,     0,            0,       0,             6*E*Iy/L**2,    0,        4*E*Iy/L,     0             ], #10\n",
        "      [0,       6*E*Iz/L**2,    0,              0,        0,            2*E*Iz/L,     0,       -6*E*Iz/L**2,  0,              0,        0,            4*E*Iz/L      ]  #11\n",
        "  ])\n",
        "  return k_local\n",
        "\n",
        "# Função para calcular a matriz de massa local do elemento 3D:\n",
        "def mlocal (R, L, p):\n",
        "\n",
        "  A = pi*R**2\n",
        "  M = p*A*L\n",
        "  Ix = pi*R**4/2\n",
        "  Iy = (M*R**2)/2\n",
        "  Iz = (M*R**2)/2\n",
        "\n",
        "  m_local = p*A*L*np.array([\n",
        "    #  0        1                         2                         3         4                         5                         6     7                         8                         9         10                        11\n",
        "    #  x1       y1                        z1                        alfa1     beta1                     theta1                    x2    y2                        z2                        alfa2     beta2                     theta2\n",
        "      [1/3,     0,                        0,                        0,        0,                        0,                        1/6,  0,                        0,                        0,        0,                        0                         ], #0\n",
        "      [0,       13/35 + 6*Iz/(5*A*L**2),  0,                        0,        0,                        11*L/210 + Iz/(10*A*L),   0,    9/70 - 6*Iz/(5*A*L**2),   0,                        0,        0,                        -13*L/420 + Iz/(10*A*L)   ], #1\n",
        "      [0,       0,                        13/35 + 6*Iy/(5*A*L**2),  0,        -11*L/210 - Iy/(10*A*L),  0,                        0,    0,                        9/70 - 6*Iy/(5*A*L**2),   0,        13*L/420 - Iy/(10*A*L),   0                         ], #2\n",
        "      [0,       0,                        0,                        Ix/(3*A), 0,                        0,                        0,    0,                        0,                        Ix/(6*A), 0,                        0                         ], #3\n",
        "      [0,       0,                        -11*L/210 - Iy/(10*A*L),  0,        (L**2)/105 + 2*Iy/(15*A), 0,                        0,    0,                        -13*L/420 + Iy/(10*A*L),  0,        -L**2/140 -Iy/(30*A),     0                         ], #4\n",
        "      [0,       11*L/210 + Iz/(10*A*L),   0,                        0,        0,                        (L**2)/105 + 2*Iz/(15*A), 0,    13*L/420 - Iz/(10*A*L),   0,                        0,        0,                        -L**2/140 -Iz/(30*A)      ], #5\n",
        "      [1/6,     0,                        0,                        0,        0,                        0,                        1/3,  0,                        0,                        0,        0,                        0                         ], #6\n",
        "      [0,       9/70 - 6*Iz/(5*A*L**2),   0,                        0,        0,                        13*L/420 - Iz/(10*A*L),   0,    13/35 + 6*Iz/(5*A*L**2),  0,                        0,        0,                        -11*L/210 - Iz/(10*A*L)   ], #7\n",
        "      [0,       0,                        9/70 - 6*Iy/(5*A*L**2),   0,        -13*L/420 + Iy/(10*A*L),  0,                        0,    0,                        13/35 + 6*Iy/(5*A*L**2),  0,        11*L/210 + Iy/(10*A*L),   0                         ], #8\n",
        "      [0,       0,                        0,                        Ix/(6*A), 0,                        0,                        0,    0,                        0,                        Ix/(3*A), 0,                        0                         ], #9\n",
        "      [0,       0,                        13*L/420 - Iy/(10*A*L),   0,        -L**2/140 -Iy/(30*A),     0,                        0,    0,                        11*L/210 + Iy/(10*A*L),   0,        (L**2)/105 + 2*Iy/(15*A), 0                         ], #10\n",
        "      [0,       -13*L/420 + Iz/(10*A*L),  0,                        0,        0,                        -L**2/140 -Iz/(30*A),     0,    -11*L/210 - Iz/(10*A*L),  0,                        0,        0,                        (L**2)/105 + 2*Iy/(15*A)  ]  #11\n",
        "  ])\n",
        "  return m_local\n",
        "\n",
        "# Matriz de rotação (local para global):\n",
        "def RotMat(alfa, beta, theta):\n",
        "\n",
        "  Ra = np.array([\n",
        "      [1, 0,          0         ],\n",
        "      [0, cos(alfa),  sin(alfa) ],\n",
        "      [0, -sin(alfa), cos(alfa) ]\n",
        "  ])\n",
        "\n",
        "  Rt = np.array([\n",
        "      [cos(theta),  sin(theta), 0],\n",
        "      [-sin(theta), cos(theta), 0],\n",
        "      [0,           0,          1]\n",
        "  ])\n",
        "\n",
        "  Rb = np.array([\n",
        "      [cos(beta),   0,  sin(beta) ],\n",
        "      [0,           1,  0         ],\n",
        "      [-sin(beta),  0,  cos(beta) ]\n",
        "  ])\n",
        "\n",
        "  Rquase = Ra@Rt@Rb\n",
        "\n",
        "  R = np.zeros((12,12))\n",
        "\n",
        "  R[:3,:3] = Rquase\n",
        "  R[3:6,3:6] = Rquase\n",
        "  R[6:9,6:9] = Rquase\n",
        "  R[9:12,9:12] = Rquase\n",
        "\n",
        "  return R # utilizando a matriz transposta para seguir com a equação do prof. Okabe:R @ Klocal @ R.T, nesse caso o R da equação é o R.T retornado nessa função"
      ]
    },
    {
      "cell_type": "code",
      "execution_count": null,
      "metadata": {
        "id": "GoDFJsIu8KHH"
      },
      "outputs": [],
      "source": [
        "#@title Construção do sistema global { display-mode: \"form\" }\n",
        "\n",
        "# massa especifica\n",
        "p = 1 # Kg/m³\n",
        "\n",
        "# Raio da hase:\n",
        "R = 5e-3 # m\n",
        "\n",
        "# Módulo de elasticidade:\n",
        "E = 210*10**9 # Pa\n",
        "\n",
        "# Poisson\n",
        "v = 0.3\n",
        "\n",
        "nos_estaticos = np.array([\n",
        "    #x      y     z\n",
        "    [0,     0,    0], # nó 0\n",
        "    [0,     0.3,  0], # nó 1\n",
        "    [0.3,   0,    0], # nó 2\n",
        "    [0.3,   0.3,  0], # nó 3\n",
        "])\n",
        "\n",
        "nos_dinamicos = np.array([\n",
        "    #x      y     z\n",
        "    [0,     0.15, 0], # nó 4\n",
        "    [0.3,   0.15, 0], # nó 5\n",
        "    [0.15,  0.15, 0]  # nó 6\n",
        "    ])\n",
        "\n",
        "nos_ref = np.append(nos_estaticos,  nos_dinamicos, axis = 0)\n",
        "\n",
        "# Nó que recebera o esforço\n",
        "no = np.array([6])\n",
        "ind = no-len(nos_estaticos[0:])\n",
        "\n",
        "ligacao_ref =  np.array([\n",
        "    # nó 1  nó 2  n° de nós intermediarios\n",
        "    [ 0,    4,    0], # nó ref 0 com 1\n",
        "    [ 4,    1,    0], # nó ref 0 com 2\n",
        "    [ 2,    5,    0], # nó ref 3 com 4\n",
        "    [ 5,    3,    0], # nó ref 3 com 5\n",
        "    [ 4,    6,    0], # nó ref 1 com 6\n",
        "    [ 6,    5,    0]  # nó ref 6 com 4\n",
        "])\n",
        "\n",
        "nos = nos_ref\n",
        "ligacao = np.zeros((1,3))\n",
        "\n",
        "for i in range(len(ligacao_ref[0:])):\n",
        "  cx = nos_ref[ligacao_ref[i,1],0] - nos_ref[ligacao_ref[i,0],0]  # comprimento em x\n",
        "  cy = nos_ref[ligacao_ref[i,1],1] - nos_ref[ligacao_ref[i,0],1]  # comprimento em y\n",
        "  cz = nos_ref[ligacao_ref[i,1],2] - nos_ref[ligacao_ref[i,0],2]  # comprimento em z\n",
        "\n",
        "  ex = cx/(ligacao_ref[i,2]+1) # comprimento em x por elemento\n",
        "  ey = cy/(ligacao_ref[i,2]+1) # comprimento em y por elemento\n",
        "  ez = cz/(ligacao_ref[i,2]+1) # comprimento em z por elemento\n",
        "\n",
        "  cox = nos_ref[ligacao_ref[i,0],0] # coordenada x inicial\n",
        "  coy = nos_ref[ligacao_ref[i,0],1] # coordenada y inicial\n",
        "  coz = nos_ref[ligacao_ref[i,0],2] # coordenada z inicial\n",
        "\n",
        "  indice = len(nos[0:]) # quantidade de nós antes do incremento\n",
        "\n",
        "  for j in range(ligacao_ref[i,2]):\n",
        "\n",
        "    cox += ex\n",
        "    coy += ey\n",
        "    coz += ez\n",
        "\n",
        "    nos = np.append(nos,  [[cox,coy,coz]],  axis = 0)\n",
        "\n",
        "  for j in range(ligacao_ref[i,2]+1):\n",
        "    j1 = indice - 1 + j\n",
        "    j2 = indice + j\n",
        "    if j == 0:\n",
        "      j1 = ligacao_ref[i,0]\n",
        "    if j == ligacao_ref[i,2]:\n",
        "      j2 = ligacao_ref[i,1]\n",
        "\n",
        "    ligacao = np.append(ligacao,  [[j1,j2,ligacao_ref[i,2]]], axis = 0)\n",
        "\n",
        "ligacao = np.delete(ligacao, 0, 0)\n",
        "\n",
        "#print(nos)\n",
        "#print(ligacao)"
      ]
    },
    {
      "cell_type": "code",
      "execution_count": null,
      "metadata": {
        "id": "CrHTUpnt-KvJ"
      },
      "outputs": [],
      "source": [
        "#@title Estabelecendo o sistema { display-mode: \"form\" }\n",
        "\n",
        "#Matriz de rigidez do sistema (ref. global):\n",
        "Ksis = np.zeros((6*len(nos[0:]), 6*len(nos[0:])))\n",
        "\n",
        "#Matriz de massa do sistema (ref. global):\n",
        "Msis = np.zeros((6*len(nos[0:]), 6*len(nos[0:])))\n",
        "\n",
        "for i in range(len(ligacao[0:])):\n",
        "\n",
        "  cx = nos[int(ligacao[i,1]),0] - nos[int(ligacao[i,0]),0]  # comprimento em x\n",
        "  cy = nos[int(ligacao[i,1]),1] - nos[int(ligacao[i,0]),1]  # comprimento em y\n",
        "  cz = nos[int(ligacao[i,1]),2] - nos[int(ligacao[i,0]),2]  # comprimento em z\n",
        "\n",
        "  comprimento = ((cx)**2 + (cy)**2 + (cz)**2 )**(1/2) # comprimento total da ligação\n",
        "\n",
        "  comprimento_el = comprimento/(ligacao[i,2]+1) # distancia entre nós ou comprimento do elemento\n",
        "\n",
        "  alfa_el = 0                                             #ângulo alfa do elemento\n",
        "  if ((cx**2 + cy**2)**(1/2)) == 0:\n",
        "    if cz >= 0:\n",
        "      beta_el = pi/2                                      #ângulo beta do elemento\n",
        "    else:\n",
        "      beta_el = -pi/2                                     #ângulo beta do elemento\n",
        "    theta_el = 0                                          #ângulo theta do elemento\n",
        "  else:\n",
        "    beta_el = np.arctan((cz) / ((cx**2 + cy**2)**(1/2)))  #ângulo beta do elemento\n",
        "    theta_el = np.arccos((cx) / ((cx**2 + cy**2)**(1/2))) #ângulo theta do elemento\n",
        "\n",
        "  # Cálculo das matrizes de rigidez, massa e rotação:\n",
        "  k_el= Klocal(E, R, comprimento_el, v)\n",
        "  m_el = mlocal(R, comprimento_el, p)\n",
        "  R_el = RotMat(alfa_el, beta_el, theta_el)\n",
        "\n",
        "  # Transformação da matriz local para global:\n",
        "  k_el_global = R_el.T @ k_el @ R_el\n",
        "  m_el_global = R_el.T @ m_el @ R_el\n",
        "\n",
        "  j1 = int(ligacao[i,0])\n",
        "  j2 = int(ligacao[i,1])\n",
        "\n",
        "  n1i = j1*6      # posição inicial do menor nó\n",
        "  n1f = j1*6 + 5  # posição final do menor nó\n",
        "  n2i = j2*6      # posição inicial do maior nó\n",
        "  n2f = j2*6 + 5  # posição final do menor nó\n",
        "\n",
        "  # Montagem do K1global na matriz do sistema:\n",
        "  Ksis[n1i:n1f+1, n1i:n1f+1] += k_el_global[:6,    :6  ]   #kii\n",
        "  Ksis[n1i:n1f+1, n2i:n2f+1] += k_el_global[:6,    6:12]   #kij\n",
        "  Ksis[n2i:n2f+1, n1i:n1f+1] += k_el_global[6:12,  :6  ]   #kji\n",
        "  Ksis[n2i:n2f+1, n2i:n2f+1] += k_el_global[6:12,  6:12]   #kjj\n",
        "  Msis[n1i:n1f+1, n1i:n1f+1] += m_el_global[:6,    :6  ]   #mii\n",
        "  Msis[n1i:n1f+1, n2i:n2f+1] += m_el_global[:6,    6:12]   #mij\n",
        "  Msis[n2i:n2f+1, n1i:n1f+1] += m_el_global[6:12,  :6  ]   #mji\n",
        "  Msis[n2i:n2f+1, n2i:n2f+1] += m_el_global[6:12,  6:12]   #mjj"
      ]
    },
    {
      "cell_type": "markdown",
      "metadata": {
        "id": "3RkVd9J3EPD2"
      },
      "source": [
        "## Resolução do sistema"
      ]
    },
    {
      "cell_type": "code",
      "execution_count": null,
      "metadata": {
        "id": "p_d54KNtCzX2"
      },
      "outputs": [],
      "source": [
        "# Redução da matriz para determinar somente deslocamentos conhecidos:\n",
        "Ksis_red = np.delete(Ksis, range(6*len(nos_estaticos[0:])), 0)\n",
        "Ksis_red = np.delete(Ksis_red, range(6*len(nos_estaticos[0:])), 1)\n",
        "\n",
        "# Vetor de forças (reduzido)\n",
        "Fsis_red = np.zeros((len(Ksis_red[0])))\n",
        "Fsis_red[ind[0]*6:(ind[0]+1)*6] = np.array([100,-100,-200,-40,50,60])\n",
        "\n",
        "# Resolve sistema\n",
        "Vet_u = np.linalg.solve(Ksis_red, Fsis_red)"
      ]
    },
    {
      "cell_type": "code",
      "execution_count": null,
      "metadata": {
        "id": "Zb9ji7EzFXte",
        "colab": {
          "base_uri": "https://localhost:8080/"
        },
        "outputId": "13173909-9c07-4cbb-cc10-9b80f4d043e6"
      },
      "outputs": [
        {
          "output_type": "stream",
          "name": "stdout",
          "text": [
            "Deslocamentos:\n",
            "nó\t   x\t\t    y\t\t    z\t\t    rotx\t  roty\t\t  rotz\n",
            "4 \t 2.27e-04 \t -1.47e-06 \t 4.69e-04 \t -1.21e-02 \t 7.51e-04 \t -8.63e-03\n",
            "5 \t 2.27e-04 \t 1.01e-06 \t -1.38e-03 \t -1.21e-02 \t -1.11e-02 \t -4.59e-03\n",
            "6 \t 2.28e-04 \t -6.07e-04 \t -1.81e-03 \t -5.00e-02 \t 4.21e-02 \t 3.97e-02\n"
          ]
        }
      ],
      "source": [
        "print(\"Deslocamentos:\\nnó\\t   x\\t\\t    y\\t\\t    z\\t\\t    rotx\\t  roty\\t\\t  rotz\")\n",
        "for i in range(int(len(Vet_u)/6)):\n",
        "  print(i+len(nos_estaticos[0:]),'\\t',f'{Vet_u[6*i]:.2e}','\\t',f'{Vet_u[6*i+1]:.2e}','\\t',f'{Vet_u[6*i+2]:.2e}','\\t',f'{Vet_u[6*i+3]:.2e}','\\t',f'{Vet_u[6*i+4]:.2e}','\\t',f'{Vet_u[6*i+5]:.2e}')"
      ]
    },
    {
      "cell_type": "code",
      "source": [
        "u = np.zeros((len(Ksis[0])))\n",
        "u[6*len(nos_estaticos[0:]):len(Ksis[0])] = Vet_u"
      ],
      "metadata": {
        "id": "jz2hbfnMC9sA"
      },
      "execution_count": null,
      "outputs": []
    },
    {
      "cell_type": "code",
      "execution_count": null,
      "metadata": {
        "id": "UjwLtxWPFpbL",
        "colab": {
          "base_uri": "https://localhost:8080/"
        },
        "outputId": "59a4d5ba-970f-425b-b575-cd80299b75aa"
      },
      "outputs": [
        {
          "output_type": "stream",
          "name": "stdout",
          "text": [
            "Esforços:\n",
            "nó\t    fx\t\t    fy\t\t    fz\t\t    mx\t\t    my\t\t    mz\n",
            "0 \t 4.62e+01 \t 1.61e+02 \t -1.52e+02 \t -8.87e+00 \t -3.97e-01 \t -1.68e+00\n",
            "1 \t -9.62e+01 \t 1.61e+02 \t 4.84e+01 \t -1.13e+00 \t -3.97e-01 \t -5.43e+00\n",
            "2 \t 1.29e+01 \t -1.11e+02 \t 5.16e+01 \t 6.37e+00 \t 5.88e+00 \t -1.80e-02\n",
            "3 \t -6.29e+01 \t -1.11e+02 \t 2.52e+02 \t -1.64e+01 \t 5.88e+00 \t -3.77e+00\n",
            "4 \t -2.75e-13 \t 0.00e+00 \t 0.00e+00 \t -8.12e-16 \t -3.55e-15 \t 3.55e-15\n",
            "5 \t 1.36e-14 \t 0.00e+00 \t -1.14e-13 \t 4.03e-16 \t -3.55e-15 \t 0.00e+00\n",
            "6 \t 1.00e+02 \t -1.00e+02 \t -2.00e+02 \t -4.00e+01 \t 5.00e+01 \t 6.00e+01\n"
          ]
        }
      ],
      "source": [
        "# Cálculo das forças:\n",
        "Vet_f = Ksis @ u\n",
        "print(\"Esforços:\\nnó\\t    fx\\t\\t    fy\\t\\t    fz\\t\\t    mx\\t\\t    my\\t\\t    mz\")\n",
        "for i in range(int(len(Vet_f)/6)):\n",
        "  print(i,'\\t',f'{Vet_f[6*i]:.2e}','\\t',f'{Vet_f[6*i+1]:.2e}','\\t',f'{Vet_f[6*i+2]:.2e}','\\t',f'{Vet_f[6*i+3]:.2e}','\\t',f'{Vet_f[6*i+4]:.2e}','\\t',f'{Vet_f[6*i+5]:.2e}')"
      ]
    },
    {
      "cell_type": "code",
      "source": [
        "Ksis = np.delete(Ksis, range(6*len(nos_estaticos[0:])), 0)\n",
        "Ksis = np.delete(Ksis, range(6*len(nos_estaticos[0:])), 1)\n",
        "\n",
        "Msis = np.delete(Msis, range(6*len(nos_estaticos[0:])), 0)\n",
        "Msis = np.delete(Msis, range(6*len(nos_estaticos[0:])), 1)"
      ],
      "metadata": {
        "id": "zLcvcVfYDixl"
      },
      "execution_count": null,
      "outputs": []
    },
    {
      "cell_type": "code",
      "source": [
        "w,v = la.eig(Ksis,Msis)"
      ],
      "metadata": {
        "id": "O-v9gj_PUWo8"
      },
      "execution_count": null,
      "outputs": []
    },
    {
      "cell_type": "code",
      "source": [
        "wordenado = np.sort(w**(1/2)/(2*pi))\n",
        "print(wordenado)"
      ],
      "metadata": {
        "id": "2SsjM_V_Dk4W",
        "colab": {
          "base_uri": "https://localhost:8080/"
        },
        "outputId": "ded11117-9c1e-4a8e-9e8d-5e09cf7e421d"
      },
      "execution_count": null,
      "outputs": [
        {
          "output_type": "stream",
          "name": "stdout",
          "text": [
            "[  13769.95+0.j   16468.8 +0.j   20649.22+0.j   20699.91+0.j   30691.22+0.j   64003.75+0.j\n",
            "   75918.1 +0.j   89586.79+0.j  100530.57+0.j  103966.19+0.j  136987.99+0.j  182536.79+0.j\n",
            "  270233.42+0.j  469123.79+0.j  528095.02+0.j  714568.05+0.j  725193.31+0.j 1115844.25+0.j]\n"
          ]
        }
      ]
    },
    {
      "cell_type": "code",
      "source": [
        "print(w**(1/2)/(2*pi))"
      ],
      "metadata": {
        "id": "UbyESCpyDlfm",
        "colab": {
          "base_uri": "https://localhost:8080/"
        },
        "outputId": "5000d7e8-3d43-47d5-f524-e95eb0bff540"
      },
      "execution_count": null,
      "outputs": [
        {
          "output_type": "stream",
          "name": "stdout",
          "text": [
            "[1115844.25+0.j  469123.79+0.j   16468.8 +0.j  725193.31+0.j  714568.05+0.j  136987.99+0.j\n",
            "  100530.57+0.j   20699.91+0.j   64003.75+0.j  270233.42+0.j  182536.79+0.j   75918.1 +0.j\n",
            "   30691.22+0.j   20649.22+0.j   13769.95+0.j  528095.02+0.j  103966.19+0.j   89586.79+0.j]\n"
          ]
        }
      ]
    },
    {
      "cell_type": "code",
      "source": [
        "print(v)"
      ],
      "metadata": {
        "id": "xdaXz8RkDmZ4",
        "colab": {
          "base_uri": "https://localhost:8080/"
        },
        "outputId": "8d37e8ef-2f9e-4201-a869-4ad0ecf51bf9"
      },
      "execution_count": null,
      "outputs": [
        {
          "output_type": "stream",
          "name": "stdout",
          "text": [
            "[[ 3.50e-01  7.07e-01  5.77e-01 -4.84e-18 -1.09e-18  6.79e-21 -8.58e-20 -9.35e-18 -9.28e-21\n",
            "   0.00e+00  0.00e+00  0.00e+00  0.00e+00  0.00e+00  0.00e+00  0.00e+00  0.00e+00  0.00e+00]\n",
            " [ 3.86e-17  8.61e-17 -1.24e-16 -5.08e-02 -6.52e-02 -5.07e-05 -5.11e-05 -8.86e-05  7.45e-05\n",
            "   0.00e+00  0.00e+00  0.00e+00  0.00e+00  0.00e+00  0.00e+00  0.00e+00  0.00e+00  0.00e+00]\n",
            " [-0.00e+00  0.00e+00  0.00e+00  0.00e+00  0.00e+00  0.00e+00  0.00e+00  0.00e+00  0.00e+00\n",
            "  -1.98e-03 -3.66e-03  8.23e-03 -7.14e-02  8.81e-02 -1.00e-01 -2.37e-20 -1.69e-19  4.40e-19]\n",
            " [-0.00e+00  0.00e+00  0.00e+00  0.00e+00  0.00e+00  0.00e+00  0.00e+00  0.00e+00  0.00e+00\n",
            "  -1.39e-16  1.33e-15 -1.87e-14 -9.89e-14  7.82e-15  2.28e-13 -1.48e-02  7.07e-01  5.69e-01]\n",
            " [-0.00e+00  0.00e+00  0.00e+00  0.00e+00  0.00e+00  0.00e+00  0.00e+00  0.00e+00  0.00e+00\n",
            "  -6.11e-01 -7.07e-01  4.35e-01 -7.01e-01  8.23e-02  6.80e-01 -5.83e-18 -4.74e-17  1.24e-17]\n",
            " [-3.75e-16 -7.97e-16  1.16e-15  4.22e-01  7.04e-01  4.48e-01 -7.07e-01 -6.96e-01  4.47e-01\n",
            "   0.00e+00  0.00e+00  0.00e+00  0.00e+00  0.00e+00  0.00e+00  0.00e+00  0.00e+00  0.00e+00]\n",
            " [ 3.50e-01 -7.07e-01  5.77e-01  4.84e-18 -1.09e-18 -6.79e-21 -8.58e-20 -9.35e-18  9.28e-21\n",
            "   0.00e+00  0.00e+00  0.00e+00  0.00e+00  0.00e+00  0.00e+00  0.00e+00  0.00e+00  0.00e+00]\n",
            " [ 5.26e-18 -1.80e-17  1.72e-17  5.08e-02 -6.52e-02  5.07e-05 -5.11e-05 -8.86e-05 -7.45e-05\n",
            "   0.00e+00  0.00e+00  0.00e+00  0.00e+00  0.00e+00  0.00e+00  0.00e+00  0.00e+00  0.00e+00]\n",
            " [-0.00e+00  0.00e+00  0.00e+00  0.00e+00  0.00e+00  0.00e+00  0.00e+00  0.00e+00  0.00e+00\n",
            "   1.98e-03 -3.66e-03 -8.23e-03 -7.14e-02 -8.81e-02 -1.00e-01  2.43e-20 -1.69e-19 -4.40e-19]\n",
            " [-0.00e+00  0.00e+00  0.00e+00  0.00e+00  0.00e+00  0.00e+00  0.00e+00  0.00e+00  0.00e+00\n",
            "  -1.39e-16  1.44e-15 -1.91e-14 -1.10e-13 -1.64e-14  1.83e-13 -1.48e-02 -7.07e-01  5.69e-01]\n",
            " [-0.00e+00  0.00e+00  0.00e+00  0.00e+00  0.00e+00  0.00e+00  0.00e+00  0.00e+00  0.00e+00\n",
            "  -6.11e-01  7.07e-01  4.35e-01  7.01e-01  8.23e-02 -6.80e-01 -5.93e-18  4.74e-17  1.24e-17]\n",
            " [ 9.74e-17 -8.16e-17  2.87e-17  4.22e-01 -7.04e-01  4.48e-01  7.07e-01  6.96e-01  4.47e-01\n",
            "   0.00e+00  0.00e+00  0.00e+00  0.00e+00  0.00e+00  0.00e+00  0.00e+00  0.00e+00  0.00e+00]\n",
            " [-8.69e-01  1.70e-17  5.78e-01  7.89e-31 -5.29e-18  1.35e-30 -8.77e-20 -9.36e-18 -5.48e-30\n",
            "   0.00e+00  0.00e+00  0.00e+00  0.00e+00  0.00e+00  0.00e+00  0.00e+00  0.00e+00  0.00e+00]\n",
            " [-4.65e-18 -7.28e-18  1.14e-17  4.99e-17  1.38e-02 -4.32e-17  1.30e-02 -1.78e-01  1.76e-16\n",
            "   0.00e+00  0.00e+00  0.00e+00  0.00e+00  0.00e+00  0.00e+00  0.00e+00  0.00e+00  0.00e+00]\n",
            " [-0.00e+00  0.00e+00  0.00e+00  0.00e+00  0.00e+00  0.00e+00  0.00e+00  0.00e+00  0.00e+00\n",
            "   7.68e-17 -8.68e-03 -1.06e-15  8.83e-02  1.93e-15 -2.34e-01  5.05e-22 -7.78e-19 -1.50e-22]\n",
            " [-0.00e+00  0.00e+00  0.00e+00  0.00e+00  0.00e+00  0.00e+00  0.00e+00  0.00e+00  0.00e+00\n",
            "   6.79e-15 -9.35e-14  1.29e-12  7.25e-12  7.45e-13 -1.31e-11  1.00e+00  1.46e-16  5.94e-01]\n",
            " [-0.00e+00  0.00e+00  0.00e+00  0.00e+00  0.00e+00  0.00e+00  0.00e+00  0.00e+00  0.00e+00\n",
            "  -5.04e-01 -1.42e-13 -7.88e-01  1.09e-13  9.85e-01 -8.76e-14 -4.08e-18  4.00e-23 -5.57e-17]\n",
            " [ 2.62e-16  7.80e-16 -1.07e-15 -7.99e-01  5.43e-14  7.74e-01  3.07e-12  1.43e-12 -7.75e-01\n",
            "   0.00e+00  0.00e+00  0.00e+00  0.00e+00  0.00e+00  0.00e+00  0.00e+00  0.00e+00  0.00e+00]]\n"
          ]
        }
      ]
    }
  ],
  "metadata": {
    "colab": {
      "provenance": [],
      "include_colab_link": true
    },
    "kernelspec": {
      "display_name": "Python 3",
      "name": "python3"
    },
    "language_info": {
      "name": "python"
    }
  },
  "nbformat": 4,
  "nbformat_minor": 0
}